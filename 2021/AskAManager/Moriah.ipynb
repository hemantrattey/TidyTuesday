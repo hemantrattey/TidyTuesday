{
 "metadata": {
  "language_info": {
   "codemirror_mode": {
    "name": "ipython",
    "version": 3
   },
   "file_extension": ".py",
   "mimetype": "text/x-python",
   "name": "python",
   "nbconvert_exporter": "python",
   "pygments_lexer": "ipython3",
   "version": "3.9.2"
  },
  "orig_nbformat": 2,
  "kernelspec": {
   "name": "python392jvsc74a57bd08cd0c579ee2ada96e06c86687db901674a0b3b5b8d48e5f9f308da5c1a238340",
   "display_name": "Python 3.9.2 64-bit ('minimalds': conda)"
  }
 },
 "nbformat": 4,
 "nbformat_minor": 2,
 "cells": [
  {
   "cell_type": "code",
   "execution_count": 1,
   "metadata": {},
   "outputs": [],
   "source": [
    "import os\n",
    "import pandas as pd\n",
    "from plotnine import *\n",
    "import numpy as np"
   ]
  },
  {
   "cell_type": "code",
   "execution_count": 2,
   "metadata": {},
   "outputs": [
    {
     "output_type": "execute_result",
     "data": {
      "text/plain": [
       "                timestamp how_old_are_you                       industry  \\\n",
       "0      4/27/2021 11:02:10           25-34   Education (Higher Education)   \n",
       "1      4/27/2021 11:02:22           25-34              Computing or Tech   \n",
       "2      4/27/2021 11:02:38           25-34  Accounting, Banking & Finance   \n",
       "3      4/27/2021 11:02:41           25-34                     Nonprofits   \n",
       "4      4/27/2021 11:02:42           25-34  Accounting, Banking & Finance   \n",
       "...                   ...             ...                            ...   \n",
       "26227  5/17/2021 17:42:33           25-34                Media & Digital   \n",
       "26228  5/17/2021 17:46:38           35-44                     Nonprofits   \n",
       "26229  5/17/2021 17:47:30           25-34              Computing or Tech   \n",
       "26230  5/17/2021 18:20:07           25-34    Marketing, Advertising & PR   \n",
       "26231  5/17/2021 19:48:52           35-44                            Law   \n",
       "\n",
       "                                      job_title  \\\n",
       "0            Research and Instruction Librarian   \n",
       "1      Change & Internal Communications Manager   \n",
       "2                          Marketing Specialist   \n",
       "3                               Program Manager   \n",
       "4                            Accounting Manager   \n",
       "...                                         ...   \n",
       "26227                           Senior Reporter   \n",
       "26228           Production and Workflow Manager   \n",
       "26229                            Chief of Staff   \n",
       "26230                 Digital Marketing Manager   \n",
       "26231              Knowledge Management Manager   \n",
       "\n",
       "                         additional_context_on_job_title  annual_salary  \\\n",
       "0                                                    NaN          55000   \n",
       "1                                                    NaN          54600   \n",
       "2                                                    NaN          34000   \n",
       "3                                                    NaN          62000   \n",
       "4                                                    NaN          60000   \n",
       "...                                                  ...            ...   \n",
       "26227                                  Trade publication          85000   \n",
       "26228                                                NaN          40000   \n",
       "26229                                                NaN         148000   \n",
       "26230  Small agency. I manage a team of ~15 people, b...          65000   \n",
       "26231                                                NaN         146192   \n",
       "\n",
       "       other_monetary_comp currency currency_other  \\\n",
       "0                      0.0      USD            NaN   \n",
       "1                   4000.0      GBP            NaN   \n",
       "2                      NaN      USD            NaN   \n",
       "3                   3000.0      USD            NaN   \n",
       "4                   7000.0      USD            NaN   \n",
       "...                    ...      ...            ...   \n",
       "26227               2000.0      USD            NaN   \n",
       "26228                  NaN      USD            NaN   \n",
       "26229              29000.0      USD            NaN   \n",
       "26230               5000.0      USD            NaN   \n",
       "26231               3850.0      USD            NaN   \n",
       "\n",
       "      additional_context_on_income         country           state  \\\n",
       "0                              NaN   United States   Massachusetts   \n",
       "1                              NaN  United Kingdom             NaN   \n",
       "2                              NaN              US       Tennessee   \n",
       "3                              NaN             USA       Wisconsin   \n",
       "4                              NaN              US  South Carolina   \n",
       "...                            ...             ...             ...   \n",
       "26227                          NaN             USA        New York   \n",
       "26228                          NaN             USA    Pennsylvania   \n",
       "26229                          NaN             USA      California   \n",
       "26230                          NaN   United States      Washington   \n",
       "26231                          NaN   United States        Michigan   \n",
       "\n",
       "                city overall_years_of_professional_experience  \\\n",
       "0             Boston                                5-7 years   \n",
       "1          Cambridge                             8 - 10 years   \n",
       "2        Chattanooga                              2 - 4 years   \n",
       "3          Milwaukee                             8 - 10 years   \n",
       "4         Greenville                             8 - 10 years   \n",
       "...              ...                                      ...   \n",
       "26227  New York City                                5-7 years   \n",
       "26228     Pittsburgh                            11 - 20 years   \n",
       "26229       Bay Area                            11 - 20 years   \n",
       "26230        Seattle                              2 - 4 years   \n",
       "26231           Troy                            11 - 20 years   \n",
       "\n",
       "      years_of_experience_in_field highest_level_of_education_completed  \\\n",
       "0                        5-7 years                      Master's degree   \n",
       "1                        5-7 years                       College degree   \n",
       "2                      2 - 4 years                       College degree   \n",
       "3                        5-7 years                       College degree   \n",
       "4                        5-7 years                       College degree   \n",
       "...                            ...                                  ...   \n",
       "26227                    5-7 years                       College degree   \n",
       "26228                  2 - 4 years                       College degree   \n",
       "26229                11 - 20 years                      Master's degree   \n",
       "26230                  2 - 4 years                       College degree   \n",
       "26231                 8 - 10 years                      Master's degree   \n",
       "\n",
       "           gender                     race  \n",
       "0           Woman                    White  \n",
       "1      Non-binary                    White  \n",
       "2           Woman                    White  \n",
       "3           Woman                    White  \n",
       "4           Woman                    White  \n",
       "...           ...                      ...  \n",
       "26227       Woman                    White  \n",
       "26228       Woman  Asian or Asian American  \n",
       "26229       Woman                    White  \n",
       "26230       Woman                    White  \n",
       "26231       Woman                    White  \n",
       "\n",
       "[26232 rows x 18 columns]"
      ],
      "text/html": "<div>\n<style scoped>\n    .dataframe tbody tr th:only-of-type {\n        vertical-align: middle;\n    }\n\n    .dataframe tbody tr th {\n        vertical-align: top;\n    }\n\n    .dataframe thead th {\n        text-align: right;\n    }\n</style>\n<table border=\"1\" class=\"dataframe\">\n  <thead>\n    <tr style=\"text-align: right;\">\n      <th></th>\n      <th>timestamp</th>\n      <th>how_old_are_you</th>\n      <th>industry</th>\n      <th>job_title</th>\n      <th>additional_context_on_job_title</th>\n      <th>annual_salary</th>\n      <th>other_monetary_comp</th>\n      <th>currency</th>\n      <th>currency_other</th>\n      <th>additional_context_on_income</th>\n      <th>country</th>\n      <th>state</th>\n      <th>city</th>\n      <th>overall_years_of_professional_experience</th>\n      <th>years_of_experience_in_field</th>\n      <th>highest_level_of_education_completed</th>\n      <th>gender</th>\n      <th>race</th>\n    </tr>\n  </thead>\n  <tbody>\n    <tr>\n      <th>0</th>\n      <td>4/27/2021 11:02:10</td>\n      <td>25-34</td>\n      <td>Education (Higher Education)</td>\n      <td>Research and Instruction Librarian</td>\n      <td>NaN</td>\n      <td>55000</td>\n      <td>0.0</td>\n      <td>USD</td>\n      <td>NaN</td>\n      <td>NaN</td>\n      <td>United States</td>\n      <td>Massachusetts</td>\n      <td>Boston</td>\n      <td>5-7 years</td>\n      <td>5-7 years</td>\n      <td>Master's degree</td>\n      <td>Woman</td>\n      <td>White</td>\n    </tr>\n    <tr>\n      <th>1</th>\n      <td>4/27/2021 11:02:22</td>\n      <td>25-34</td>\n      <td>Computing or Tech</td>\n      <td>Change &amp; Internal Communications Manager</td>\n      <td>NaN</td>\n      <td>54600</td>\n      <td>4000.0</td>\n      <td>GBP</td>\n      <td>NaN</td>\n      <td>NaN</td>\n      <td>United Kingdom</td>\n      <td>NaN</td>\n      <td>Cambridge</td>\n      <td>8 - 10 years</td>\n      <td>5-7 years</td>\n      <td>College degree</td>\n      <td>Non-binary</td>\n      <td>White</td>\n    </tr>\n    <tr>\n      <th>2</th>\n      <td>4/27/2021 11:02:38</td>\n      <td>25-34</td>\n      <td>Accounting, Banking &amp; Finance</td>\n      <td>Marketing Specialist</td>\n      <td>NaN</td>\n      <td>34000</td>\n      <td>NaN</td>\n      <td>USD</td>\n      <td>NaN</td>\n      <td>NaN</td>\n      <td>US</td>\n      <td>Tennessee</td>\n      <td>Chattanooga</td>\n      <td>2 - 4 years</td>\n      <td>2 - 4 years</td>\n      <td>College degree</td>\n      <td>Woman</td>\n      <td>White</td>\n    </tr>\n    <tr>\n      <th>3</th>\n      <td>4/27/2021 11:02:41</td>\n      <td>25-34</td>\n      <td>Nonprofits</td>\n      <td>Program Manager</td>\n      <td>NaN</td>\n      <td>62000</td>\n      <td>3000.0</td>\n      <td>USD</td>\n      <td>NaN</td>\n      <td>NaN</td>\n      <td>USA</td>\n      <td>Wisconsin</td>\n      <td>Milwaukee</td>\n      <td>8 - 10 years</td>\n      <td>5-7 years</td>\n      <td>College degree</td>\n      <td>Woman</td>\n      <td>White</td>\n    </tr>\n    <tr>\n      <th>4</th>\n      <td>4/27/2021 11:02:42</td>\n      <td>25-34</td>\n      <td>Accounting, Banking &amp; Finance</td>\n      <td>Accounting Manager</td>\n      <td>NaN</td>\n      <td>60000</td>\n      <td>7000.0</td>\n      <td>USD</td>\n      <td>NaN</td>\n      <td>NaN</td>\n      <td>US</td>\n      <td>South Carolina</td>\n      <td>Greenville</td>\n      <td>8 - 10 years</td>\n      <td>5-7 years</td>\n      <td>College degree</td>\n      <td>Woman</td>\n      <td>White</td>\n    </tr>\n    <tr>\n      <th>...</th>\n      <td>...</td>\n      <td>...</td>\n      <td>...</td>\n      <td>...</td>\n      <td>...</td>\n      <td>...</td>\n      <td>...</td>\n      <td>...</td>\n      <td>...</td>\n      <td>...</td>\n      <td>...</td>\n      <td>...</td>\n      <td>...</td>\n      <td>...</td>\n      <td>...</td>\n      <td>...</td>\n      <td>...</td>\n      <td>...</td>\n    </tr>\n    <tr>\n      <th>26227</th>\n      <td>5/17/2021 17:42:33</td>\n      <td>25-34</td>\n      <td>Media &amp; Digital</td>\n      <td>Senior Reporter</td>\n      <td>Trade publication</td>\n      <td>85000</td>\n      <td>2000.0</td>\n      <td>USD</td>\n      <td>NaN</td>\n      <td>NaN</td>\n      <td>USA</td>\n      <td>New York</td>\n      <td>New York City</td>\n      <td>5-7 years</td>\n      <td>5-7 years</td>\n      <td>College degree</td>\n      <td>Woman</td>\n      <td>White</td>\n    </tr>\n    <tr>\n      <th>26228</th>\n      <td>5/17/2021 17:46:38</td>\n      <td>35-44</td>\n      <td>Nonprofits</td>\n      <td>Production and Workflow Manager</td>\n      <td>NaN</td>\n      <td>40000</td>\n      <td>NaN</td>\n      <td>USD</td>\n      <td>NaN</td>\n      <td>NaN</td>\n      <td>USA</td>\n      <td>Pennsylvania</td>\n      <td>Pittsburgh</td>\n      <td>11 - 20 years</td>\n      <td>2 - 4 years</td>\n      <td>College degree</td>\n      <td>Woman</td>\n      <td>Asian or Asian American</td>\n    </tr>\n    <tr>\n      <th>26229</th>\n      <td>5/17/2021 17:47:30</td>\n      <td>25-34</td>\n      <td>Computing or Tech</td>\n      <td>Chief of Staff</td>\n      <td>NaN</td>\n      <td>148000</td>\n      <td>29000.0</td>\n      <td>USD</td>\n      <td>NaN</td>\n      <td>NaN</td>\n      <td>USA</td>\n      <td>California</td>\n      <td>Bay Area</td>\n      <td>11 - 20 years</td>\n      <td>11 - 20 years</td>\n      <td>Master's degree</td>\n      <td>Woman</td>\n      <td>White</td>\n    </tr>\n    <tr>\n      <th>26230</th>\n      <td>5/17/2021 18:20:07</td>\n      <td>25-34</td>\n      <td>Marketing, Advertising &amp; PR</td>\n      <td>Digital Marketing Manager</td>\n      <td>Small agency. I manage a team of ~15 people, b...</td>\n      <td>65000</td>\n      <td>5000.0</td>\n      <td>USD</td>\n      <td>NaN</td>\n      <td>NaN</td>\n      <td>United States</td>\n      <td>Washington</td>\n      <td>Seattle</td>\n      <td>2 - 4 years</td>\n      <td>2 - 4 years</td>\n      <td>College degree</td>\n      <td>Woman</td>\n      <td>White</td>\n    </tr>\n    <tr>\n      <th>26231</th>\n      <td>5/17/2021 19:48:52</td>\n      <td>35-44</td>\n      <td>Law</td>\n      <td>Knowledge Management Manager</td>\n      <td>NaN</td>\n      <td>146192</td>\n      <td>3850.0</td>\n      <td>USD</td>\n      <td>NaN</td>\n      <td>NaN</td>\n      <td>United States</td>\n      <td>Michigan</td>\n      <td>Troy</td>\n      <td>11 - 20 years</td>\n      <td>8 - 10 years</td>\n      <td>Master's degree</td>\n      <td>Woman</td>\n      <td>White</td>\n    </tr>\n  </tbody>\n</table>\n<p>26232 rows × 18 columns</p>\n</div>"
     },
     "metadata": {},
     "execution_count": 2
    }
   ],
   "source": [
    "df = pd.read_csv('https://raw.githubusercontent.com/rfordatascience/tidytuesday/master/data/2021/2021-05-18/survey.csv')\n",
    "df"
   ]
  },
  {
   "cell_type": "code",
   "execution_count": 3,
   "metadata": {},
   "outputs": [],
   "source": [
    "survey_df = df.copy()"
   ]
  },
  {
   "cell_type": "code",
   "execution_count": 4,
   "metadata": {},
   "outputs": [
    {
     "output_type": "stream",
     "name": "stdout",
     "text": [
      "<class 'pandas.core.frame.DataFrame'>\nRangeIndex: 26232 entries, 0 to 26231\nData columns (total 18 columns):\n #   Column                                    Non-Null Count  Dtype  \n---  ------                                    --------------  -----  \n 0   timestamp                                 26232 non-null  object \n 1   how_old_are_you                           26232 non-null  object \n 2   industry                                  26173 non-null  object \n 3   job_title                                 26232 non-null  object \n 4   additional_context_on_job_title           6763 non-null   object \n 5   annual_salary                             26232 non-null  int64  \n 6   other_monetary_comp                       19447 non-null  float64\n 7   currency                                  26232 non-null  object \n 8   currency_other                            166 non-null    object \n 9   additional_context_on_income              2872 non-null   object \n 10  country                                   26232 non-null  object \n 11  state                                     21545 non-null  object \n 12  city                                      26154 non-null  object \n 13  overall_years_of_professional_experience  26232 non-null  object \n 14  years_of_experience_in_field              26232 non-null  object \n 15  highest_level_of_education_completed      26036 non-null  object \n 16  gender                                    26084 non-null  object \n 17  race                                      26086 non-null  object \ndtypes: float64(1), int64(1), object(16)\nmemory usage: 3.6+ MB\n"
     ]
    }
   ],
   "source": [
    "survey_df.info()"
   ]
  },
  {
   "source": [
    "# Data Cleaning and Pre Processing"
   ],
   "cell_type": "markdown",
   "metadata": {}
  },
  {
   "cell_type": "code",
   "execution_count": 5,
   "metadata": {},
   "outputs": [],
   "source": [
    "# Make timestamp column datetime\n",
    "survey_df['timestamp'] = pd.to_datetime(survey_df['timestamp'])"
   ]
  },
  {
   "source": [
    "# Moriah Taylor Viz"
   ],
   "cell_type": "markdown",
   "metadata": {}
  },
  {
   "cell_type": "code",
   "execution_count": 6,
   "metadata": {},
   "outputs": [
    {
     "output_type": "execute_result",
     "data": {
      "text/plain": [
       "software engineer           369\n",
       "project manager             281\n",
       "senior software engineer    239\n",
       "director                    215\n",
       "program manager             189\n",
       "executive assistant         185\n",
       "teacher                     168\n",
       "librarian                   165\n",
       "manager                     152\n",
       "administrative assistant    142\n",
       "product manager             140\n",
       "data analyst                126\n",
       "software developer          118\n",
       "office manager              115\n",
       "attorney                    113\n",
       "Name: job_title, dtype: int64"
      ]
     },
     "metadata": {},
     "execution_count": 6
    }
   ],
   "source": [
    "survey_df['job_title'].str.lower().value_counts(ascending = False).head(15)"
   ]
  },
  {
   "cell_type": "code",
   "execution_count": 7,
   "metadata": {},
   "outputs": [
    {
     "output_type": "execute_result",
     "data": {
      "text/plain": [
       "             industry                    job_title    0\n",
       "0   Computing or Tech            Software Engineer  251\n",
       "1   Computing or Tech     Senior Software Engineer  173\n",
       "2   Computing or Tech              Product Manager   85\n",
       "3   Computing or Tech           Software Developer   70\n",
       "4   Computing or Tech          Engineering Manager   63\n",
       "5   Computing or Tech            Software engineer   51\n",
       "6   Computing or Tech              Project Manager   37\n",
       "7   Computing or Tech      Staff Software Engineer   36\n",
       "8   Computing or Tech     Customer Success Manager   34\n",
       "9   Computing or Tech      Director of Engineering   31\n",
       "10  Computing or Tech               Data Scientist   31\n",
       "11  Computing or Tech                 Data Analyst   30\n",
       "12  Computing or Tech              Program Manager   29\n",
       "13  Computing or Tech             Business Analyst   28\n",
       "14  Computing or Tech  Principal Software Engineer   28\n",
       "15  Computing or Tech             Technical Writer   27\n",
       "16  Computing or Tech     Senior software engineer   25\n",
       "17  Computing or Tech    Senior Software Developer   25\n",
       "18  Computing or Tech         Software Engineer II   25\n",
       "19  Computing or Tech           Software developer   22"
      ],
      "text/html": "<div>\n<style scoped>\n    .dataframe tbody tr th:only-of-type {\n        vertical-align: middle;\n    }\n\n    .dataframe tbody tr th {\n        vertical-align: top;\n    }\n\n    .dataframe thead th {\n        text-align: right;\n    }\n</style>\n<table border=\"1\" class=\"dataframe\">\n  <thead>\n    <tr style=\"text-align: right;\">\n      <th></th>\n      <th>industry</th>\n      <th>job_title</th>\n      <th>0</th>\n    </tr>\n  </thead>\n  <tbody>\n    <tr>\n      <th>0</th>\n      <td>Computing or Tech</td>\n      <td>Software Engineer</td>\n      <td>251</td>\n    </tr>\n    <tr>\n      <th>1</th>\n      <td>Computing or Tech</td>\n      <td>Senior Software Engineer</td>\n      <td>173</td>\n    </tr>\n    <tr>\n      <th>2</th>\n      <td>Computing or Tech</td>\n      <td>Product Manager</td>\n      <td>85</td>\n    </tr>\n    <tr>\n      <th>3</th>\n      <td>Computing or Tech</td>\n      <td>Software Developer</td>\n      <td>70</td>\n    </tr>\n    <tr>\n      <th>4</th>\n      <td>Computing or Tech</td>\n      <td>Engineering Manager</td>\n      <td>63</td>\n    </tr>\n    <tr>\n      <th>5</th>\n      <td>Computing or Tech</td>\n      <td>Software engineer</td>\n      <td>51</td>\n    </tr>\n    <tr>\n      <th>6</th>\n      <td>Computing or Tech</td>\n      <td>Project Manager</td>\n      <td>37</td>\n    </tr>\n    <tr>\n      <th>7</th>\n      <td>Computing or Tech</td>\n      <td>Staff Software Engineer</td>\n      <td>36</td>\n    </tr>\n    <tr>\n      <th>8</th>\n      <td>Computing or Tech</td>\n      <td>Customer Success Manager</td>\n      <td>34</td>\n    </tr>\n    <tr>\n      <th>9</th>\n      <td>Computing or Tech</td>\n      <td>Director of Engineering</td>\n      <td>31</td>\n    </tr>\n    <tr>\n      <th>10</th>\n      <td>Computing or Tech</td>\n      <td>Data Scientist</td>\n      <td>31</td>\n    </tr>\n    <tr>\n      <th>11</th>\n      <td>Computing or Tech</td>\n      <td>Data Analyst</td>\n      <td>30</td>\n    </tr>\n    <tr>\n      <th>12</th>\n      <td>Computing or Tech</td>\n      <td>Program Manager</td>\n      <td>29</td>\n    </tr>\n    <tr>\n      <th>13</th>\n      <td>Computing or Tech</td>\n      <td>Business Analyst</td>\n      <td>28</td>\n    </tr>\n    <tr>\n      <th>14</th>\n      <td>Computing or Tech</td>\n      <td>Principal Software Engineer</td>\n      <td>28</td>\n    </tr>\n    <tr>\n      <th>15</th>\n      <td>Computing or Tech</td>\n      <td>Technical Writer</td>\n      <td>27</td>\n    </tr>\n    <tr>\n      <th>16</th>\n      <td>Computing or Tech</td>\n      <td>Senior software engineer</td>\n      <td>25</td>\n    </tr>\n    <tr>\n      <th>17</th>\n      <td>Computing or Tech</td>\n      <td>Senior Software Developer</td>\n      <td>25</td>\n    </tr>\n    <tr>\n      <th>18</th>\n      <td>Computing or Tech</td>\n      <td>Software Engineer II</td>\n      <td>25</td>\n    </tr>\n    <tr>\n      <th>19</th>\n      <td>Computing or Tech</td>\n      <td>Software developer</td>\n      <td>22</td>\n    </tr>\n  </tbody>\n</table>\n</div>"
     },
     "metadata": {},
     "execution_count": 7
    }
   ],
   "source": [
    "survey_df.loc[survey_df['industry'] == 'Computing or Tech', ['industry', 'job_title']].value_counts().reset_index().head(20)"
   ]
  },
  {
   "cell_type": "code",
   "execution_count": 8,
   "metadata": {},
   "outputs": [],
   "source": [
    "survey_df['job_title'] = survey_df['job_title'].apply(lambda x : x.lower())"
   ]
  },
  {
   "cell_type": "code",
   "execution_count": 9,
   "metadata": {},
   "outputs": [
    {
     "output_type": "execute_result",
     "data": {
      "text/plain": [
       "United States                                                                                                                               9010\n",
       "USA                                                                                                                                         7918\n",
       "US                                                                                                                                          2485\n",
       "Canada                                                                                                                                      1543\n",
       "United Kingdom                                                                                                                               584\n",
       "                                                                                                                                            ... \n",
       "United States (I work from home and my clients are all over the US/Canada/PR                                                                   1\n",
       "International                                                                                                                                  1\n",
       "U.A.                                                                                                                                           1\n",
       "I was brought in on this salary to help with the EHR and very quickly was promoted to current position but compensation was not altered.       1\n",
       "Uniteed States                                                                                                                                 1\n",
       "Name: country, Length: 294, dtype: int64"
      ]
     },
     "metadata": {},
     "execution_count": 9
    }
   ],
   "source": [
    "survey_df['country'].value_counts(ascending = False)"
   ]
  },
  {
   "cell_type": "code",
   "execution_count": 10,
   "metadata": {},
   "outputs": [
    {
     "output_type": "execute_result",
     "data": {
      "text/plain": [
       "                timestamp how_old_are_you                      industry  \\\n",
       "45    2021-04-27 11:04:04           25-34                    Nonprofits   \n",
       "215   2021-04-27 11:06:51           35-44  Engineering or Manufacturing   \n",
       "230   2021-04-27 11:07:05           18-24        Business or Consulting   \n",
       "321   2021-04-27 11:08:11           35-44             Computing or Tech   \n",
       "378   2021-04-27 11:09:02           35-44             Computing or Tech   \n",
       "...                   ...             ...                           ...   \n",
       "26075 2021-05-11 18:28:50           25-34   Marketing, Advertising & PR   \n",
       "26139 2021-05-13 17:38:47           35-44             Computing or Tech   \n",
       "26177 2021-05-14 19:47:03           45-54             Computing or Tech   \n",
       "26194 2021-05-15 22:39:42           25-34  Engineering or Manufacturing   \n",
       "26210 2021-05-17 12:47:21           25-34  Education (Higher Education)   \n",
       "\n",
       "                      job_title additional_context_on_job_title  \\\n",
       "45              project manager                             NaN   \n",
       "215           software engineer                             NaN   \n",
       "230                data analyst                             NaN   \n",
       "321           software engineer                             NaN   \n",
       "378            business analyst                             NaN   \n",
       "...                         ...                             ...   \n",
       "26075           project manager                             NaN   \n",
       "26139         software engineer                             NaN   \n",
       "26177  senior software engineer                             NaN   \n",
       "26194           project manager                             NaN   \n",
       "26210              data analyst                             NaN   \n",
       "\n",
       "       annual_salary  other_monetary_comp currency currency_other  \\\n",
       "45             66625               1500.0      USD            NaN   \n",
       "215           139000               9000.0      USD            NaN   \n",
       "230            62000                  NaN      USD            NaN   \n",
       "321           156000             189000.0      USD            NaN   \n",
       "378            85000               7000.0      USD            NaN   \n",
       "...              ...                  ...      ...            ...   \n",
       "26075          88400                  NaN      USD            NaN   \n",
       "26139         126000              10000.0      USD            NaN   \n",
       "26177         175000              50000.0      USD            NaN   \n",
       "26194         170000                  NaN      USD            NaN   \n",
       "26210          47000                  NaN      USD            NaN   \n",
       "\n",
       "      additional_context_on_income        country                 state  \\\n",
       "45                             NaN             US         Massachusetts   \n",
       "215                            NaN  United states            Washington   \n",
       "230                            NaN  United States         Massachusetts   \n",
       "321           Salary, stock, bonus  United States         Massachusetts   \n",
       "378                            NaN  United States          Pennsylvania   \n",
       "...                            ...            ...                   ...   \n",
       "26075                          NaN  United States  District of Columbia   \n",
       "26139                          NaN  United States              New York   \n",
       "26177                          NaN             US         Massachusetts   \n",
       "26194                          NaN             US                 Texas   \n",
       "26210                          NaN  United States              Virginia   \n",
       "\n",
       "                 city overall_years_of_professional_experience  \\\n",
       "45             Boston                             8 - 10 years   \n",
       "215           Seattle                            11 - 20 years   \n",
       "230         Braintree                           1 year or less   \n",
       "321      Metro Boston                            21 - 30 years   \n",
       "378      Philadelphia                            11 - 20 years   \n",
       "...               ...                                      ...   \n",
       "26075  Washington, DC                                5-7 years   \n",
       "26139        New York                                5-7 years   \n",
       "26177       Cambridge                            21 - 30 years   \n",
       "26194         Midland                             8 - 10 years   \n",
       "26210      Alexandria                                5-7 years   \n",
       "\n",
       "      years_of_experience_in_field highest_level_of_education_completed  \\\n",
       "45                    8 - 10 years                       College degree   \n",
       "215                  11 - 20 years                       College degree   \n",
       "230                 1 year or less                       College degree   \n",
       "321                  21 - 30 years                      Master's degree   \n",
       "378                  11 - 20 years                       College degree   \n",
       "...                            ...                                  ...   \n",
       "26075                    5-7 years                       College degree   \n",
       "26139                  2 - 4 years                       College degree   \n",
       "26177                21 - 30 years                       College degree   \n",
       "26194                 8 - 10 years                       College degree   \n",
       "26210                  2 - 4 years                       College degree   \n",
       "\n",
       "                              gender  \\\n",
       "45                             Woman   \n",
       "215                            Woman   \n",
       "230                            Woman   \n",
       "321    Other or prefer not to answer   \n",
       "378                            Woman   \n",
       "...                              ...   \n",
       "26075                          Woman   \n",
       "26139                          Woman   \n",
       "26177                            Man   \n",
       "26194                          Woman   \n",
       "26210                            Man   \n",
       "\n",
       "                                                    race  \n",
       "45            Hispanic, Latino, or Spanish origin, White  \n",
       "215                                                White  \n",
       "230                                                White  \n",
       "321    Another option not listed here or prefer not t...  \n",
       "378                                                White  \n",
       "...                                                  ...  \n",
       "26075                Hispanic, Latino, or Spanish origin  \n",
       "26139                                              White  \n",
       "26177                     Asian or Asian American, White  \n",
       "26194         Hispanic, Latino, or Spanish origin, White  \n",
       "26210                                              White  \n",
       "\n",
       "[743 rows x 18 columns]"
      ],
      "text/html": "<div>\n<style scoped>\n    .dataframe tbody tr th:only-of-type {\n        vertical-align: middle;\n    }\n\n    .dataframe tbody tr th {\n        vertical-align: top;\n    }\n\n    .dataframe thead th {\n        text-align: right;\n    }\n</style>\n<table border=\"1\" class=\"dataframe\">\n  <thead>\n    <tr style=\"text-align: right;\">\n      <th></th>\n      <th>timestamp</th>\n      <th>how_old_are_you</th>\n      <th>industry</th>\n      <th>job_title</th>\n      <th>additional_context_on_job_title</th>\n      <th>annual_salary</th>\n      <th>other_monetary_comp</th>\n      <th>currency</th>\n      <th>currency_other</th>\n      <th>additional_context_on_income</th>\n      <th>country</th>\n      <th>state</th>\n      <th>city</th>\n      <th>overall_years_of_professional_experience</th>\n      <th>years_of_experience_in_field</th>\n      <th>highest_level_of_education_completed</th>\n      <th>gender</th>\n      <th>race</th>\n    </tr>\n  </thead>\n  <tbody>\n    <tr>\n      <th>45</th>\n      <td>2021-04-27 11:04:04</td>\n      <td>25-34</td>\n      <td>Nonprofits</td>\n      <td>project manager</td>\n      <td>NaN</td>\n      <td>66625</td>\n      <td>1500.0</td>\n      <td>USD</td>\n      <td>NaN</td>\n      <td>NaN</td>\n      <td>US</td>\n      <td>Massachusetts</td>\n      <td>Boston</td>\n      <td>8 - 10 years</td>\n      <td>8 - 10 years</td>\n      <td>College degree</td>\n      <td>Woman</td>\n      <td>Hispanic, Latino, or Spanish origin, White</td>\n    </tr>\n    <tr>\n      <th>215</th>\n      <td>2021-04-27 11:06:51</td>\n      <td>35-44</td>\n      <td>Engineering or Manufacturing</td>\n      <td>software engineer</td>\n      <td>NaN</td>\n      <td>139000</td>\n      <td>9000.0</td>\n      <td>USD</td>\n      <td>NaN</td>\n      <td>NaN</td>\n      <td>United states</td>\n      <td>Washington</td>\n      <td>Seattle</td>\n      <td>11 - 20 years</td>\n      <td>11 - 20 years</td>\n      <td>College degree</td>\n      <td>Woman</td>\n      <td>White</td>\n    </tr>\n    <tr>\n      <th>230</th>\n      <td>2021-04-27 11:07:05</td>\n      <td>18-24</td>\n      <td>Business or Consulting</td>\n      <td>data analyst</td>\n      <td>NaN</td>\n      <td>62000</td>\n      <td>NaN</td>\n      <td>USD</td>\n      <td>NaN</td>\n      <td>NaN</td>\n      <td>United States</td>\n      <td>Massachusetts</td>\n      <td>Braintree</td>\n      <td>1 year or less</td>\n      <td>1 year or less</td>\n      <td>College degree</td>\n      <td>Woman</td>\n      <td>White</td>\n    </tr>\n    <tr>\n      <th>321</th>\n      <td>2021-04-27 11:08:11</td>\n      <td>35-44</td>\n      <td>Computing or Tech</td>\n      <td>software engineer</td>\n      <td>NaN</td>\n      <td>156000</td>\n      <td>189000.0</td>\n      <td>USD</td>\n      <td>NaN</td>\n      <td>Salary, stock, bonus</td>\n      <td>United States</td>\n      <td>Massachusetts</td>\n      <td>Metro Boston</td>\n      <td>21 - 30 years</td>\n      <td>21 - 30 years</td>\n      <td>Master's degree</td>\n      <td>Other or prefer not to answer</td>\n      <td>Another option not listed here or prefer not t...</td>\n    </tr>\n    <tr>\n      <th>378</th>\n      <td>2021-04-27 11:09:02</td>\n      <td>35-44</td>\n      <td>Computing or Tech</td>\n      <td>business analyst</td>\n      <td>NaN</td>\n      <td>85000</td>\n      <td>7000.0</td>\n      <td>USD</td>\n      <td>NaN</td>\n      <td>NaN</td>\n      <td>United States</td>\n      <td>Pennsylvania</td>\n      <td>Philadelphia</td>\n      <td>11 - 20 years</td>\n      <td>11 - 20 years</td>\n      <td>College degree</td>\n      <td>Woman</td>\n      <td>White</td>\n    </tr>\n    <tr>\n      <th>...</th>\n      <td>...</td>\n      <td>...</td>\n      <td>...</td>\n      <td>...</td>\n      <td>...</td>\n      <td>...</td>\n      <td>...</td>\n      <td>...</td>\n      <td>...</td>\n      <td>...</td>\n      <td>...</td>\n      <td>...</td>\n      <td>...</td>\n      <td>...</td>\n      <td>...</td>\n      <td>...</td>\n      <td>...</td>\n      <td>...</td>\n    </tr>\n    <tr>\n      <th>26075</th>\n      <td>2021-05-11 18:28:50</td>\n      <td>25-34</td>\n      <td>Marketing, Advertising &amp; PR</td>\n      <td>project manager</td>\n      <td>NaN</td>\n      <td>88400</td>\n      <td>NaN</td>\n      <td>USD</td>\n      <td>NaN</td>\n      <td>NaN</td>\n      <td>United States</td>\n      <td>District of Columbia</td>\n      <td>Washington, DC</td>\n      <td>5-7 years</td>\n      <td>5-7 years</td>\n      <td>College degree</td>\n      <td>Woman</td>\n      <td>Hispanic, Latino, or Spanish origin</td>\n    </tr>\n    <tr>\n      <th>26139</th>\n      <td>2021-05-13 17:38:47</td>\n      <td>35-44</td>\n      <td>Computing or Tech</td>\n      <td>software engineer</td>\n      <td>NaN</td>\n      <td>126000</td>\n      <td>10000.0</td>\n      <td>USD</td>\n      <td>NaN</td>\n      <td>NaN</td>\n      <td>United States</td>\n      <td>New York</td>\n      <td>New York</td>\n      <td>5-7 years</td>\n      <td>2 - 4 years</td>\n      <td>College degree</td>\n      <td>Woman</td>\n      <td>White</td>\n    </tr>\n    <tr>\n      <th>26177</th>\n      <td>2021-05-14 19:47:03</td>\n      <td>45-54</td>\n      <td>Computing or Tech</td>\n      <td>senior software engineer</td>\n      <td>NaN</td>\n      <td>175000</td>\n      <td>50000.0</td>\n      <td>USD</td>\n      <td>NaN</td>\n      <td>NaN</td>\n      <td>US</td>\n      <td>Massachusetts</td>\n      <td>Cambridge</td>\n      <td>21 - 30 years</td>\n      <td>21 - 30 years</td>\n      <td>College degree</td>\n      <td>Man</td>\n      <td>Asian or Asian American, White</td>\n    </tr>\n    <tr>\n      <th>26194</th>\n      <td>2021-05-15 22:39:42</td>\n      <td>25-34</td>\n      <td>Engineering or Manufacturing</td>\n      <td>project manager</td>\n      <td>NaN</td>\n      <td>170000</td>\n      <td>NaN</td>\n      <td>USD</td>\n      <td>NaN</td>\n      <td>NaN</td>\n      <td>US</td>\n      <td>Texas</td>\n      <td>Midland</td>\n      <td>8 - 10 years</td>\n      <td>8 - 10 years</td>\n      <td>College degree</td>\n      <td>Woman</td>\n      <td>Hispanic, Latino, or Spanish origin, White</td>\n    </tr>\n    <tr>\n      <th>26210</th>\n      <td>2021-05-17 12:47:21</td>\n      <td>25-34</td>\n      <td>Education (Higher Education)</td>\n      <td>data analyst</td>\n      <td>NaN</td>\n      <td>47000</td>\n      <td>NaN</td>\n      <td>USD</td>\n      <td>NaN</td>\n      <td>NaN</td>\n      <td>United States</td>\n      <td>Virginia</td>\n      <td>Alexandria</td>\n      <td>5-7 years</td>\n      <td>2 - 4 years</td>\n      <td>College degree</td>\n      <td>Man</td>\n      <td>White</td>\n    </tr>\n  </tbody>\n</table>\n<p>743 rows × 18 columns</p>\n</div>"
     },
     "metadata": {},
     "execution_count": 10
    }
   ],
   "source": [
    "jobs = [\"software engineer\", \"software developer\", \"project manager\", \"data scientist\", \"data analyst\", \"business analyst\", \"web developer\", 'senior software engineer', 'engineering manager', 'director of engineering']\n",
    "countries = [\"US\", \"United States\", \"usa\", \"us\", \"Unite States\", \"United States\", \"United States of America\",\n",
    "        \"united states\", \"U.S\", \"U.S.\", \"United states\", \"U.S.A.\", \"United States Of America\", \"Uniyed states\",\n",
    "        \"Usa\"]\n",
    "tech_jobs_us= survey_df[(survey_df['job_title'].isin(jobs)) & (survey_df['country'].isin(countries))]\n",
    "tech_jobs_us"
   ]
  },
  {
   "cell_type": "code",
   "execution_count": 17,
   "metadata": {},
   "outputs": [
    {
     "output_type": "stream",
     "name": "stderr",
     "text": [
      "C:\\Users\\Hemant Rattey\\anaconda3\\envs\\minimalds\\lib\\site-packages\\plotnine\\ggplot.py:719: PlotnineWarning: Saving 25 x 16 in image.\n",
      "C:\\Users\\Hemant Rattey\\anaconda3\\envs\\minimalds\\lib\\site-packages\\plotnine\\ggplot.py:722: PlotnineWarning: Filename: viz/Moriah.png\n",
      "C:\\Users\\Hemant Rattey\\anaconda3\\envs\\minimalds\\lib\\site-packages\\plotnine\\layer.py:324: PlotnineWarning: stat_ydensity : Removed 22 rows containing non-finite values.\n",
      "C:\\Users\\Hemant Rattey\\anaconda3\\envs\\minimalds\\lib\\site-packages\\plotnine\\layer.py:324: PlotnineWarning: stat_boxplot : Removed 22 rows containing non-finite values.\n",
      "C:\\Users\\Hemant Rattey\\anaconda3\\envs\\minimalds\\lib\\site-packages\\plotnine\\layer.py:401: PlotnineWarning: geom_point : Removed 23 rows containing missing values.\n"
     ]
    }
   ],
   "source": [
    "from mizani.formatters import currency_format\n",
    "p = (\n",
    "    ggplot(tech_jobs_us, aes(x = 'job_title', y = 'annual_salary', fill = 'job_title'))\n",
    "    + geom_violin(position = position_nudge(x = 0.25, y = 0), alpha = 0.8, style = 'right')\n",
    "    + geom_point(aes(y = 'annual_salary', color = 'job_title'), position = position_jitter(width = 0.15), size = 1, alpha = 0.5)\n",
    "    + geom_boxplot(alpha = 0.7, width = 0.3)\n",
    "    + scale_y_continuous(limits = [50_000, 300_000], labels=currency_format(big_mark=','))\n",
    "    + guides(fill = False, color = False)\n",
    "    + coord_flip()\n",
    "    + labs(x = \"\", y = 'Annual Salary')\n",
    "    + theme(\n",
    "        figure_size=(25,16), \n",
    "        # Axis \n",
    "        axis_title_y = element_blank(), \n",
    "        axis_title_x = element_text(family=\"monospace\", size=24, color=\"white\"),\n",
    "        axis_text_y = element_text(family=\"monospace\", size= 24, color=\"white\"),\n",
    "        axis_text_x = element_text(family=\"monospace\", size=18, color=\"white\", angle=45),\n",
    "        axis_ticks = element_blank(),\n",
    "        axis_line = element_blank(),\n",
    "        # Panel and Background\n",
    "        panel_grid_major = element_line(color=\"#222222\"),\n",
    "        panel_grid_minor = element_line(color=\"#222222\"),\n",
    "        panel_background = element_rect(fill = \"black\"),\n",
    "        plot_background = element_rect(fill = \"black\"),\n",
    "        )\n",
    ")\n",
    "p.save('viz/Moriah.png')"
   ]
  },
  {
   "cell_type": "code",
   "execution_count": null,
   "metadata": {},
   "outputs": [],
   "source": []
  }
 ]
}